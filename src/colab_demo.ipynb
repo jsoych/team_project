{
  "cells": [
    {
      "cell_type": "code",
      "execution_count": null,
      "metadata": {
        "colab": {
          "base_uri": "https://localhost:8080/"
        },
        "id": "sB2Ab6EPiH5F",
        "outputId": "2798ba2a-95e9-4615-b5e2-9aae43417ffd"
      },
      "outputs": [],
      "source": [
        "# Check and download the needed packages\n",
        "import importlib\n",
        "\n",
        "def install_if_missing(package):\n",
        "    if importlib.util.find_spec(package) is None:\n",
        "        !pip install {package}\n",
        "\n",
        "# Download the needed packages\n",
        "for package in ['PyGithub', 'kaggle']:\n",
        "    install_if_missing(package)"
      ]
    },
    {
      "cell_type": "code",
      "execution_count": null,
      "metadata": {
        "colab": {
          "base_uri": "https://localhost:8080/",
          "height": 475
        },
        "id": "0uZALbt7jwtE",
        "outputId": "f70ccfc7-a6ce-459d-c644-0825ef170d69"
      },
      "outputs": [],
      "source": [
        "import os\n",
        "from google.colab import files\n",
        "\n",
        "# Make kaggle directory\n",
        "if not(os.path.isdir(os.path.expanduser('~/.kaggle'))):\n",
        "    !mkdir ~/.kaggle\n",
        "\n",
        "# Upload kaggle api token\n",
        "if not(os.path.exists('kaggle.json')):\n",
        "    files.upload()\n",
        "\n",
        "# Copy token to ~/.kaggle/\n",
        "if (os.path.exists('kaggle.json')):\n",
        "    !cp kaggle.json ~/.kaggle/\n",
        "    !chmod 600 ~/.kaggle/kaggle.json\n",
        "\n",
        "!kaggle datasets list"
      ]
    },
    {
      "cell_type": "code",
      "execution_count": null,
      "metadata": {
        "colab": {
          "base_uri": "https://localhost:8080/"
        },
        "id": "DsNacBKWqjrA",
        "outputId": "cbe0de94-c138-4876-a1fc-08eaecfd6440"
      },
      "outputs": [],
      "source": [
        "# Download data\n",
        "if not(os.path.exists('chest-xray-pneumonia.zip')):\n",
        "    !kaggle datasets download -d paultimothymooney/chest-xray-pneumonia\n",
        "\n",
        "# Unzip zipfile\n",
        "if not(os.path.exists('/content/chest_xray')):\n",
        "    !unzip /content/chest-xray-pneumonia.zip"
      ]
    },
    {
      "cell_type": "code",
      "execution_count": null,
      "metadata": {
        "id": "swKzSj87vuKJ"
      },
      "outputs": [],
      "source": [
        "\"\"\"\n",
        "The following get the our DataGenerator object from our team_project repo\n",
        "\"\"\"\n",
        "from github import Github\n",
        "\n",
        "# Authentication is defined via github.Auth\n",
        "from github import Auth\n",
        "\n",
        "# Use the token I shared with everyone in slack\n",
        "auth = Auth.Token('copy and paste the token here')\n",
        "\n",
        "# Public web Github\n",
        "with Github(auth=auth) as gh:\n",
        "    # Get team_project repo\n",
        "    repo = gh.get_user().get_repo('team_project')\n",
        "\n",
        "    # Get data generator from repo\n",
        "    \"\"\"\n",
        "    get_content by default retrieves content from the repo main branch. To get content\n",
        "    from other branches use the commit reference id. In this demo the id is 9936741,\n",
        "    which references the feature-engineering branch and includes our data generator.\n",
        "    \"\"\"\n",
        "    content = repo.get_contents(path='src/data_generator.py', ref='9936741')\n",
        "    rawdata = content.decoded_content\n",
        "\n",
        "    # Save data generator\n",
        "    if not(os.path.exists(content.name)):\n",
        "        with open(content.name, 'wb') as f:\n",
        "            f.write(rawdata)"
      ]
    },
    {
      "cell_type": "code",
      "execution_count": null,
      "metadata": {
        "colab": {
          "base_uri": "https://localhost:8080/"
        },
        "id": "G4REskLqDltt",
        "outputId": "93015977-588c-4794-f2ae-ad6d7a9c2e86"
      },
      "outputs": [],
      "source": [
        "from data_generator import DataGenerator\n",
        "\n",
        "train_data_gen = DataGenerator('/content/chest_xray/chest_xray/train')\n",
        "train_data_gen.summary()"
      ]
    }
  ],
  "metadata": {
    "colab": {
      "provenance": []
    },
    "kernelspec": {
      "display_name": "Python 3",
      "name": "python3"
    },
    "language_info": {
      "name": "python"
    }
  },
  "nbformat": 4,
  "nbformat_minor": 0
}
